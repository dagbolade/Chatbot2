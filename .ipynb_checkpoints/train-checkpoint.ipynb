{
 "cells": [
  {
   "cell_type": "markdown",
   "source": [
    "# TRAINING A CHATBOT INTENT CLASSIFIER"
   ],
   "metadata": {
    "collapsed": false
   },
   "id": "734815fbac8b2b68"
  },
  {
   "cell_type": "markdown",
   "source": [
    "# 1. Importing the libraries"
   ],
   "metadata": {
    "collapsed": false
   },
   "id": "b3cd4710065b851"
  },
  {
   "cell_type": "code",
   "execution_count": 1,
   "id": "initial_id",
   "metadata": {
    "collapsed": true,
    "ExecuteTime": {
     "end_time": "2024-01-04T17:54:39.491213400Z",
     "start_time": "2024-01-04T17:54:17.922338300Z"
    }
   },
   "outputs": [
    {
     "name": "stdout",
     "output_type": "stream",
     "text": [
      "WARNING:tensorflow:From D:\\Users\\dagbo\\OneDrive\\ChatbotAE2\\.venv\\lib\\site-packages\\keras\\src\\losses.py:2976: The name tf.losses.sparse_softmax_cross_entropy is deprecated. Please use tf.compat.v1.losses.sparse_softmax_cross_entropy instead.\n"
     ]
    }
   ],
   "source": [
    "import nltk\n",
    "import numpy as np\n",
    "import random\n",
    "\n",
    "from nltk.stem import WordNetLemmatizer\n",
    "from nltk.tokenize import word_tokenize\n",
    "from nltk.corpus import stopwords\n",
    "\n",
    "from tensorflow.keras.models import Sequential\n",
    "from tensorflow.keras.layers import Dense, Activation, Dropout\n",
    "from tensorflow.keras.optimizers import SGD\n"
   ]
  },
  {
   "cell_type": "markdown",
   "source": [
    "# 2. Downloading the NLTK packages"
   ],
   "metadata": {
    "collapsed": false
   },
   "id": "a0b8231bbee48d53"
  },
  {
   "cell_type": "code",
   "execution_count": 2,
   "outputs": [
    {
     "name": "stderr",
     "output_type": "stream",
     "text": [
      "[nltk_data] Downloading package wordnet to\n",
      "[nltk_data]     C:\\Users\\dagbo_b40tnyc\\AppData\\Roaming\\nltk_data...\n",
      "[nltk_data]   Package wordnet is already up-to-date!\n",
      "[nltk_data] Downloading package stopwords to\n",
      "[nltk_data]     C:\\Users\\dagbo_b40tnyc\\AppData\\Roaming\\nltk_data...\n",
      "[nltk_data]   Package stopwords is already up-to-date!\n",
      "[nltk_data] Downloading package punkt to\n",
      "[nltk_data]     C:\\Users\\dagbo_b40tnyc\\AppData\\Roaming\\nltk_data...\n",
      "[nltk_data]   Package punkt is already up-to-date!\n"
     ]
    },
    {
     "data": {
      "text/plain": "True"
     },
     "execution_count": 2,
     "metadata": {},
     "output_type": "execute_result"
    }
   ],
   "source": [
    "# download the wordnet and stopwords corpus\n",
    "nltk.download('wordnet') # wordnet is a lexical database for the English language\n",
    "nltk.download('stopwords') # stopwords means words like 'the', 'a', 'an', 'is', 'are', etc.\n",
    "nltk.download('punkt') # punkt means punctuations"
   ],
   "metadata": {
    "collapsed": false,
    "ExecuteTime": {
     "end_time": "2024-01-04T17:54:40.622563400Z",
     "start_time": "2024-01-04T17:54:39.490066700Z"
    }
   },
   "id": "4527ea109c19738d"
  },
  {
   "cell_type": "markdown",
   "source": [
    "# 3. Importing the intents.json file"
   ],
   "metadata": {
    "collapsed": false
   },
   "id": "2df36a839a3b36fc"
  },
  {
   "cell_type": "code",
   "execution_count": 3,
   "outputs": [],
   "source": [
    "# import intents file\n",
    "import json\n",
    "\n",
    "def load_intents():\n",
    "    with open('intents.json') as file:\n",
    "        intents = json.load(file)\n",
    "    return intents\n",
    "\n",
    "intents = load_intents()\n",
    "    "
   ],
   "metadata": {
    "collapsed": false,
    "ExecuteTime": {
     "end_time": "2024-01-04T17:54:40.663170500Z",
     "start_time": "2024-01-04T17:54:40.230327100Z"
    }
   },
   "id": "a0903109b6aef2ec"
  },
  {
   "cell_type": "markdown",
   "source": [
    "# 4. using nltk techniques to preprocess the data for training"
   ],
   "metadata": {
    "collapsed": false
   },
   "id": "d37c5c26f7298f46"
  },
  {
   "cell_type": "code",
   "execution_count": 4,
   "outputs": [],
   "source": [
    "# initialize lemmatizer to get stem of words\n",
    "lemmatizer = WordNetLemmatizer() # lemma is the root form of the word and it is very accurate than stemming\n",
    "\n",
    "\n",
    "# loop through each sentence in the intent's patterns\n",
    "def preprocess_intents(intents):\n",
    "    # create empty lists for documents, classes and words\n",
    "    documents = [] # documents means patterns\n",
    "    classes = [] # classes means tags\n",
    "    words = [] # words means vocabulary\n",
    "    ignore_letters = ['!', '?', ',', '.'] # ignore these letters\n",
    "    stop_words = set(stopwords.words('english')) # stop words are words like 'the', 'a', 'an', 'is', 'are', etc.\n",
    "\n",
    "\n",
    "    for intent in intents['intents']:\n",
    "        \n",
    "        # debug for keyerror @ 'patterns'\n",
    "        # print(intent['patterns'])\n",
    "        for pattern in intent['patterns']:\n",
    "            # tokenize each and every word in the sentence\n",
    "            word = nltk.word_tokenize(pattern) \n",
    "            # lemmatize each word and convert into lowercase\n",
    "            word = [lemmatizer.lemmatize(w.lower()) for w in word if w not in stop_words and w not in ignore_letters]\n",
    "            # add word to the word list\n",
    "            words.extend(word) # extend means add to the list and append means add to the end of the list\n",
    "            # add word(s) to documents\n",
    "            documents.append((word, intent['tag'])) #\n",
    "            # add tags to our classes list\n",
    "            if intent['tag'] not in classes: # if tag is not in classes list\n",
    "                classes.append(intent['tag']) # then add it to the classes list\n",
    "                \n",
    "    # sort words and remove duplicates\n",
    "    words = sorted(list(set(words)))\n",
    "    # sort classes\n",
    "    classes = sorted(list(set(classes)))\n",
    "    return documents, classes, words\n",
    "\n",
    "documents, classes, words = preprocess_intents(intents)\n"
   ],
   "metadata": {
    "collapsed": false,
    "ExecuteTime": {
     "end_time": "2024-01-04T17:54:44.310917500Z",
     "start_time": "2024-01-04T17:54:40.328357400Z"
    }
   },
   "id": "b8545efe3805e21d"
  },
  {
   "cell_type": "code",
   "execution_count": 5,
   "outputs": [],
   "source": [
    "from tensorflow.keras.preprocessing.text import Tokenizer\n",
    "from tensorflow.keras.preprocessing.sequence import pad_sequences\n",
    "from sklearn.preprocessing import LabelEncoder\n",
    "from tensorflow.keras.utils import to_categorical\n",
    "from sklearn.model_selection import train_test_split\n",
    "\n",
    "def preprocess_data_for_lstm(documents, words, classes, max_sequence_len=None):\n",
    "    tokenizer = Tokenizer(num_words=len(words))\n",
    "    tokenizer.fit_on_texts(words)\n",
    "\n",
    "    X = tokenizer.texts_to_sequences([' '.join(doc[0]) for doc in documents])\n",
    "    \n",
    "    if not max_sequence_len:\n",
    "        max_sequence_len = max([len(x) for x in X])\n",
    "    \n",
    "    X_padded = pad_sequences(X, maxlen=max_sequence_len, padding='post')\n",
    "\n",
    "    encoder = LabelEncoder()\n",
    "    Y = encoder.fit_transform([doc[1] for doc in documents])\n",
    "    Y_categorical = to_categorical(Y)\n",
    "\n",
    "    train_x, test_x, train_y, test_y = train_test_split(X_padded, Y_categorical, test_size=0.25, random_state=42)\n",
    "\n",
    "    return train_x, test_x, train_y, test_y, max_sequence_len, tokenizer, encoder\n"
   ],
   "metadata": {
    "collapsed": false,
    "ExecuteTime": {
     "end_time": "2024-01-04T17:54:44.393658400Z",
     "start_time": "2024-01-04T17:54:44.318361Z"
    }
   },
   "id": "fc4c08e3757e725a"
  },
  {
   "cell_type": "code",
   "execution_count": 6,
   "outputs": [],
   "source": [
    "from tensorflow.keras.models import Sequential\n",
    "from tensorflow.keras.layers import LSTM, Dense, Embedding, Dropout\n",
    "\n",
    "def create_and_train_lstm(train_x, train_y, test_x, test_y, max_sequence_len, num_words, num_classes):\n",
    "    model = Sequential()\n",
    "    model.add(Embedding(input_dim=num_words, output_dim=64, input_length=max_sequence_len))\n",
    "    model.add(LSTM(128, return_sequences=True))\n",
    "    model.add(Dropout(0.5))\n",
    "    model.add(LSTM(64))\n",
    "    model.add(Dropout(0.5))\n",
    "    model.add(Dense(num_classes, activation='softmax'))\n",
    "\n",
    "    model.compile(loss='categorical_crossentropy', optimizer='adam', metrics=['accuracy'])\n",
    "\n",
    "    model.fit(train_x, train_y, epochs=50, batch_size=5, verbose=1)\n",
    "\n",
    "    loss, accuracy = model.evaluate(test_x, test_y, verbose=0)\n",
    "    print(\"Test Loss:\", loss)\n",
    "    print(\"Test Accuracy:\", accuracy)\n",
    "\n",
    "    return model\n"
   ],
   "metadata": {
    "collapsed": false,
    "ExecuteTime": {
     "end_time": "2024-01-04T17:54:44.422330600Z",
     "start_time": "2024-01-04T17:54:44.391657600Z"
    }
   },
   "id": "39c9f03a7e0fc5eb"
  },
  {
   "cell_type": "code",
   "execution_count": 7,
   "outputs": [
    {
     "name": "stdout",
     "output_type": "stream",
     "text": [
      "WARNING:tensorflow:From D:\\Users\\dagbo\\OneDrive\\ChatbotAE2\\.venv\\lib\\site-packages\\keras\\src\\backend.py:873: The name tf.get_default_graph is deprecated. Please use tf.compat.v1.get_default_graph instead.\n",
      "WARNING:tensorflow:From D:\\Users\\dagbo\\OneDrive\\ChatbotAE2\\.venv\\lib\\site-packages\\keras\\src\\optimizers\\__init__.py:309: The name tf.train.Optimizer is deprecated. Please use tf.compat.v1.train.Optimizer instead.\n",
      "Epoch 1/50\n",
      "WARNING:tensorflow:From D:\\Users\\dagbo\\OneDrive\\ChatbotAE2\\.venv\\lib\\site-packages\\keras\\src\\utils\\tf_utils.py:492: The name tf.ragged.RaggedTensorValue is deprecated. Please use tf.compat.v1.ragged.RaggedTensorValue instead.\n",
      "WARNING:tensorflow:From D:\\Users\\dagbo\\OneDrive\\ChatbotAE2\\.venv\\lib\\site-packages\\keras\\src\\engine\\base_layer_utils.py:384: The name tf.executing_eagerly_outside_functions is deprecated. Please use tf.compat.v1.executing_eagerly_outside_functions instead.\n",
      "47/47 [==============================] - 10s 27ms/step - loss: 4.4052 - accuracy: 0.0172\n",
      "Epoch 2/50\n",
      "47/47 [==============================] - 1s 30ms/step - loss: 4.3370 - accuracy: 0.0345\n",
      "Epoch 3/50\n",
      "47/47 [==============================] - 1s 22ms/step - loss: 4.1961 - accuracy: 0.0388\n",
      "Epoch 4/50\n",
      "47/47 [==============================] - 1s 32ms/step - loss: 4.0176 - accuracy: 0.0560\n",
      "Epoch 5/50\n",
      "47/47 [==============================] - 1s 20ms/step - loss: 3.9540 - accuracy: 0.0647\n",
      "Epoch 6/50\n",
      "47/47 [==============================] - 1s 30ms/step - loss: 3.8737 - accuracy: 0.0517\n",
      "Epoch 7/50\n",
      "47/47 [==============================] - 1s 16ms/step - loss: 3.7962 - accuracy: 0.0603\n",
      "Epoch 8/50\n",
      "47/47 [==============================] - 1s 18ms/step - loss: 3.7237 - accuracy: 0.0431\n",
      "Epoch 9/50\n",
      "47/47 [==============================] - 1s 28ms/step - loss: 3.6391 - accuracy: 0.0948\n",
      "Epoch 10/50\n",
      "47/47 [==============================] - 1s 18ms/step - loss: 3.6045 - accuracy: 0.0733\n",
      "Epoch 11/50\n",
      "47/47 [==============================] - 1s 18ms/step - loss: 3.4334 - accuracy: 0.0819\n",
      "Epoch 12/50\n",
      "47/47 [==============================] - 1s 15ms/step - loss: 3.3243 - accuracy: 0.1121\n",
      "Epoch 13/50\n",
      "47/47 [==============================] - 1s 14ms/step - loss: 3.2427 - accuracy: 0.1164\n",
      "Epoch 14/50\n",
      "47/47 [==============================] - 1s 14ms/step - loss: 3.1013 - accuracy: 0.1379\n",
      "Epoch 15/50\n",
      "47/47 [==============================] - 1s 31ms/step - loss: 3.0741 - accuracy: 0.1466\n",
      "Epoch 16/50\n",
      "47/47 [==============================] - 1s 22ms/step - loss: 2.9577 - accuracy: 0.1724\n",
      "Epoch 17/50\n",
      "47/47 [==============================] - 1s 21ms/step - loss: 2.9049 - accuracy: 0.1853\n",
      "Epoch 18/50\n",
      "47/47 [==============================] - 1s 19ms/step - loss: 2.9205 - accuracy: 0.1983\n",
      "Epoch 19/50\n",
      "47/47 [==============================] - 1s 24ms/step - loss: 2.7673 - accuracy: 0.2328\n",
      "Epoch 20/50\n",
      "47/47 [==============================] - 1s 29ms/step - loss: 2.7615 - accuracy: 0.1422\n",
      "Epoch 21/50\n",
      "47/47 [==============================] - 1s 17ms/step - loss: 2.6567 - accuracy: 0.2026\n",
      "Epoch 22/50\n",
      "47/47 [==============================] - 1s 24ms/step - loss: 2.5323 - accuracy: 0.2500\n",
      "Epoch 23/50\n",
      "47/47 [==============================] - 1s 16ms/step - loss: 2.4771 - accuracy: 0.2543\n",
      "Epoch 24/50\n",
      "47/47 [==============================] - 1s 29ms/step - loss: 2.4161 - accuracy: 0.2759\n",
      "Epoch 25/50\n",
      "47/47 [==============================] - 1s 27ms/step - loss: 2.3712 - accuracy: 0.2457\n",
      "Epoch 26/50\n",
      "47/47 [==============================] - 1s 27ms/step - loss: 2.3566 - accuracy: 0.2974\n",
      "Epoch 27/50\n",
      "47/47 [==============================] - 2s 34ms/step - loss: 2.2970 - accuracy: 0.2974\n",
      "Epoch 28/50\n",
      "47/47 [==============================] - 2s 46ms/step - loss: 2.2068 - accuracy: 0.3448\n",
      "Epoch 29/50\n",
      "47/47 [==============================] - 1s 19ms/step - loss: 2.1172 - accuracy: 0.3922\n",
      "Epoch 30/50\n",
      "47/47 [==============================] - 2s 36ms/step - loss: 2.0368 - accuracy: 0.3879\n",
      "Epoch 31/50\n",
      "47/47 [==============================] - 1s 16ms/step - loss: 2.0014 - accuracy: 0.4181\n",
      "Epoch 32/50\n",
      "47/47 [==============================] - 1s 17ms/step - loss: 1.9181 - accuracy: 0.4267\n",
      "Epoch 33/50\n",
      "47/47 [==============================] - 1s 15ms/step - loss: 1.8068 - accuracy: 0.4095\n",
      "Epoch 34/50\n",
      "47/47 [==============================] - 1s 31ms/step - loss: 1.8439 - accuracy: 0.4095\n",
      "Epoch 35/50\n",
      "47/47 [==============================] - 1s 16ms/step - loss: 1.8236 - accuracy: 0.4784\n",
      "Epoch 36/50\n",
      "47/47 [==============================] - 1s 27ms/step - loss: 1.7849 - accuracy: 0.4828\n",
      "Epoch 37/50\n",
      "47/47 [==============================] - 1s 23ms/step - loss: 1.8713 - accuracy: 0.4138\n",
      "Epoch 38/50\n",
      "47/47 [==============================] - 1s 23ms/step - loss: 1.7824 - accuracy: 0.4353\n",
      "Epoch 39/50\n",
      "47/47 [==============================] - 1s 32ms/step - loss: 1.7206 - accuracy: 0.4957\n",
      "Epoch 40/50\n",
      "47/47 [==============================] - 1s 21ms/step - loss: 1.6302 - accuracy: 0.4828\n",
      "Epoch 41/50\n",
      "47/47 [==============================] - 1s 16ms/step - loss: 1.5975 - accuracy: 0.5259\n",
      "Epoch 42/50\n",
      "47/47 [==============================] - 1s 25ms/step - loss: 1.5470 - accuracy: 0.5172\n",
      "Epoch 43/50\n",
      "47/47 [==============================] - 1s 28ms/step - loss: 1.5510 - accuracy: 0.5259\n",
      "Epoch 44/50\n",
      "47/47 [==============================] - 1s 15ms/step - loss: 1.3877 - accuracy: 0.5776\n",
      "Epoch 45/50\n",
      "47/47 [==============================] - 1s 14ms/step - loss: 1.4516 - accuracy: 0.5560\n",
      "Epoch 46/50\n",
      "47/47 [==============================] - 1s 17ms/step - loss: 1.3955 - accuracy: 0.5862\n",
      "Epoch 47/50\n",
      "47/47 [==============================] - 1s 13ms/step - loss: 1.3834 - accuracy: 0.6078\n",
      "Epoch 48/50\n",
      "47/47 [==============================] - 1s 14ms/step - loss: 1.3298 - accuracy: 0.6034\n",
      "Epoch 49/50\n",
      "47/47 [==============================] - 1s 24ms/step - loss: 1.2424 - accuracy: 0.6466\n",
      "Epoch 50/50\n",
      "47/47 [==============================] - 1s 15ms/step - loss: 1.3238 - accuracy: 0.6034\n",
      "Test Loss: 4.327894687652588\n",
      "Test Accuracy: 0.19230769574642181\n"
     ]
    }
   ],
   "source": [
    "# Assume 'documents', 'words', and 'classes' are already defined\n",
    "train_x, test_x, train_y, test_y, max_len, tokenizer, encoder = preprocess_data_for_lstm(documents, words, classes)\n",
    "\n",
    "# The number of words and classes\n",
    "num_words = len(tokenizer.word_index) + 1\n",
    "num_classes = len(classes)\n",
    "\n",
    "model = create_and_train_lstm(train_x, train_y, test_x, test_y, max_len, num_words, num_classes)\n"
   ],
   "metadata": {
    "collapsed": false,
    "ExecuteTime": {
     "end_time": "2024-01-04T17:55:51.110298400Z",
     "start_time": "2024-01-04T17:54:44.413565400Z"
    }
   },
   "id": "568e9dc1da8742a3"
  },
  {
   "cell_type": "code",
   "execution_count": 10,
   "outputs": [
    {
     "name": "stdout",
     "output_type": "stream",
     "text": [
      "1/1 [==============================] - 0s 41ms/step\n",
      "Predicted Class: greeting (Index: 47, Confidence: 0.91)\n"
     ]
    }
   ],
   "source": [
    "def evaluate_model(model, tokenizer, encoder, max_len):\n",
    "    while True:\n",
    "        message = input(\"Enter a message (type 'quit' to exit): \")\n",
    "        if message.lower() == \"quit\":\n",
    "            break\n",
    "\n",
    "        processed_message = nltk.word_tokenize(message)\n",
    "        processed_message = [lemmatizer.lemmatize(word.lower()) for word in processed_message if word.lower() not in stopwords.words('english')]\n",
    "\n",
    "        if not processed_message:\n",
    "            print(\"Couldn't process the input. Try again.\")\n",
    "            continue\n",
    "\n",
    "        message_sequence = tokenizer.texts_to_sequences([processed_message])\n",
    "        message_padded = pad_sequences(message_sequence, maxlen=max_len, padding='post')\n",
    "\n",
    "        predictions = model.predict(message_padded)\n",
    "        class_index = np.argmax(predictions, axis=1)[0]\n",
    "        class_name = encoder.classes_[class_index]\n",
    "\n",
    "        print(f\"Predicted Class: {class_name} (Index: {class_index}, Confidence: {predictions[0][class_index]:.2f})\")\n",
    "\n",
    "evaluate_model(model, tokenizer, encoder, max_len)\n"
   ],
   "metadata": {
    "collapsed": false,
    "ExecuteTime": {
     "end_time": "2024-01-04T17:59:42.361105300Z",
     "start_time": "2024-01-04T17:59:22.087616900Z"
    }
   },
   "id": "15dc3e57b439b9d8"
  },
  {
   "cell_type": "code",
   "execution_count": null,
   "outputs": [],
   "source": [],
   "metadata": {
    "collapsed": false
   },
   "id": "4ac21c937c1f4856"
  }
 ],
 "metadata": {
  "kernelspec": {
   "display_name": "Python 3",
   "language": "python",
   "name": "python3"
  },
  "language_info": {
   "codemirror_mode": {
    "name": "ipython",
    "version": 2
   },
   "file_extension": ".py",
   "mimetype": "text/x-python",
   "name": "python",
   "nbconvert_exporter": "python",
   "pygments_lexer": "ipython2",
   "version": "2.7.6"
  }
 },
 "nbformat": 4,
 "nbformat_minor": 5
}
